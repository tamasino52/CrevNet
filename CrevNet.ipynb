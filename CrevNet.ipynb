{
 "cells": [
  {
   "cell_type": "markdown",
   "metadata": {},
   "source": [
    "# Library import"
   ]
  },
  {
   "cell_type": "code",
   "execution_count": 1,
   "metadata": {},
   "outputs": [],
   "source": [
    "import torch\n",
    "import torch.optim as optim\n",
    "import torch.nn as nn\n",
    "import argparse\n",
    "import os\n",
    "import random\n",
    "from torch.autograd import Variable\n",
    "from torch.utils.data import DataLoader\n",
    "import numpy as np\n",
    "import time\n",
    "from skimage.measure import compare_ssim\n",
    "from tqdm import trange\n",
    "import easydict\n",
    "\n",
    "# Local Module\n",
    "import pssim.pytorch_ssim as pytorch_ssim\n",
    "import utils.data_utils as data_utils\n",
    "import utils.utils as utils\n",
    "import utils.utils_3d as utils_3d"
   ]
  },
  {
   "cell_type": "markdown",
   "metadata": {},
   "source": [
    "# Option parameter"
   ]
  },
  {
   "cell_type": "code",
   "execution_count": 2,
   "metadata": {},
   "outputs": [],
   "source": [
    "opt = easydict.EasyDict({})\n",
    "opt.lr = 0.0005\n",
    "opt.beta1 = 0.9\n",
    "opt.batch_size = 7\n",
    "opt.log_dir = 'logs'\n",
    "opt.model_dir = ''\n",
    "opt.name = ''\n",
    "opt.data_root = 'data'\n",
    "opt.optimizer = optim.Adam\n",
    "opt.data_type = 'sequence'\n",
    "opt.niter = 60\n",
    "opt.epoch_size =5000\n",
    "opt.image_width = 64\n",
    "opt.channels = 1\n",
    "opt.dataset = 'smmnist'\n",
    "opt.n_past = 8\n",
    "opt.n_future = 10\n",
    "opt.n_eval = 18\n",
    "opt.rnn_size = 32\n",
    "opt.predictor_rnn_layers = 8\n",
    "opt.beta = 0.0001\n",
    "opt.model = 'crevnet'\n",
    "opt.data_threads = 0\n",
    "opt.num_digits = 2\n",
    "opt.max_step = opt.n_past + opt.n_future + 2\n",
    "\n",
    "# Random seed setting\n",
    "opt.seed = 1\n",
    "random.seed(opt.seed)\n",
    "torch.manual_seed(opt.seed)\n",
    "torch.cuda.manual_seed_all(opt.seed)\n",
    "dtype = torch.cuda.FloatTensor"
   ]
  },
  {
   "cell_type": "markdown",
   "metadata": {},
   "source": [
    "# Folder naming"
   ]
  },
  {
   "cell_type": "code",
   "execution_count": 3,
   "metadata": {},
   "outputs": [],
   "source": [
    "if opt.model_dir != '':\n",
    "    saved_model = torch.load('%s/model.pth' % opt.model_dir)\n",
    "    optimizer = opt.optimizer\n",
    "    model_dir = opt.model_dir\n",
    "    opt = saved_model['opt']\n",
    "    opt.optimizer = optimizer\n",
    "    opt.model_dir = model_dir\n",
    "    opt.log_dir = '%s/continued' % opt.log_dir\n",
    "else:\n",
    "    name = 'model_mnist=layers_%s=seq_len_%s=batch_size_%s' % (opt.predictor_rnn_layers,opt.n_eval,opt.batch_size)\n",
    "    if opt.dataset == 'smmnist':\n",
    "        opt.log_dir = '%s/%s-%d/%s' % (opt.log_dir, opt.dataset, opt.num_digits, name)\n",
    "    else:\n",
    "        opt.log_dir = '%s/%s/%s' % (opt.log_dir, opt.dataset, name)\n",
    "\n",
    "os.makedirs('%s/gen/' % opt.log_dir, exist_ok=True)\n",
    "os.makedirs('%s/plots/' % opt.log_dir, exist_ok=True)"
   ]
  },
  {
   "cell_type": "markdown",
   "metadata": {},
   "source": [
    "# Model setting"
   ]
  },
  {
   "cell_type": "code",
   "execution_count": 4,
   "metadata": {},
   "outputs": [],
   "source": [
    "from AutoEncoder.AutoEncoder import AutoEncoder\n",
    "from RPM.ReversiblePredictor import ReversiblePredictor\n",
    "\n",
    "frame_predictor = ReversiblePredictor(input_size=opt.rnn_size,\n",
    "                                      hidden_size=opt.rnn_size, \n",
    "                                      output_size=opt.rnn_size, \n",
    "                                      n_layers=opt.predictor_rnn_layers, \n",
    "                                      batch_size=opt.batch_size)\n",
    "\n",
    "encoder = AutoEncoder(nBlocks=[4,5,3], \n",
    "                      nStrides=[1, 2, 2],\n",
    "                      nChannels=None,\n",
    "                      init_ds=2,\n",
    "                      dropout_rate=0., \n",
    "                      affineBN=True, \n",
    "                      in_shape=[opt.channels, opt.image_width, opt.image_width],\n",
    "                      mult=2)\n",
    "\n",
    "frame_predictor_optimizer = opt.optimizer(frame_predictor.parameters(), lr=opt.lr, betas=(opt.beta1, 0.999))\n",
    "encoder_optimizer = opt.optimizer(encoder.parameters(), lr=opt.lr, betas=(opt.beta1, 0.999))\n",
    "\n",
    "scheduler1 = torch.optim.lr_scheduler.StepLR(frame_predictor_optimizer, step_size=50, gamma=0.2)\n",
    "scheduler2 = torch.optim.lr_scheduler.StepLR(encoder_optimizer, step_size=50, gamma=0.2)\n",
    "\n",
    "mse_criterion = nn.MSELoss()"
   ]
  },
  {
   "cell_type": "markdown",
   "metadata": {},
   "source": [
    "# Transfer to GPU"
   ]
  },
  {
   "cell_type": "code",
   "execution_count": 5,
   "metadata": {},
   "outputs": [
    {
     "data": {
      "text/plain": [
       "MSELoss()"
      ]
     },
     "execution_count": 5,
     "metadata": {},
     "output_type": "execute_result"
    }
   ],
   "source": [
    "frame_predictor.cuda()\n",
    "encoder.cuda()\n",
    "mse_criterion.cuda()"
   ]
  },
  {
   "cell_type": "markdown",
   "metadata": {},
   "source": [
    "# Dataset loading"
   ]
  },
  {
   "cell_type": "code",
   "execution_count": 6,
   "metadata": {
    "scrolled": true
   },
   "outputs": [
    {
     "name": "stderr",
     "output_type": "stream",
     "text": [
      "C:\\Users\\thdsn\\Anaconda3\\lib\\site-packages\\torchvision\\transforms\\transforms.py:208: UserWarning: The use of the transforms.Scale transform is deprecated, please use transforms.Resize instead.\n",
      "  warnings.warn(\"The use of the transforms.Scale transform is deprecated, \" +\n",
      "\r",
      "0it [00:00, ?it/s]"
     ]
    },
    {
     "name": "stdout",
     "output_type": "stream",
     "text": [
      "Downloading http://yann.lecun.com/exdb/mnist/train-images-idx3-ubyte.gz to data\\MNIST\\raw\\train-images-idx3-ubyte.gz\n"
     ]
    },
    {
     "name": "stderr",
     "output_type": "stream",
     "text": [
      "9920512it [00:02, 3386718.75it/s]                                                                                      \n"
     ]
    },
    {
     "name": "stdout",
     "output_type": "stream",
     "text": [
      "Extracting data\\MNIST\\raw\\train-images-idx3-ubyte.gz\n"
     ]
    },
    {
     "name": "stderr",
     "output_type": "stream",
     "text": [
      "\r",
      "0it [00:00, ?it/s]"
     ]
    },
    {
     "name": "stdout",
     "output_type": "stream",
     "text": [
      "Downloading http://yann.lecun.com/exdb/mnist/train-labels-idx1-ubyte.gz to data\\MNIST\\raw\\train-labels-idx1-ubyte.gz\n"
     ]
    },
    {
     "name": "stderr",
     "output_type": "stream",
     "text": [
      "32768it [00:00, 62667.29it/s]                                                                                          \n",
      "0it [00:00, ?it/s]"
     ]
    },
    {
     "name": "stdout",
     "output_type": "stream",
     "text": [
      "Extracting data\\MNIST\\raw\\train-labels-idx1-ubyte.gz\n",
      "Downloading http://yann.lecun.com/exdb/mnist/t10k-images-idx3-ubyte.gz to data\\MNIST\\raw\\t10k-images-idx3-ubyte.gz\n"
     ]
    },
    {
     "name": "stderr",
     "output_type": "stream",
     "text": [
      "1654784it [00:01, 1180975.45it/s]                                                                                      \n",
      "0it [00:00, ?it/s]"
     ]
    },
    {
     "name": "stdout",
     "output_type": "stream",
     "text": [
      "Extracting data\\MNIST\\raw\\t10k-images-idx3-ubyte.gz\n",
      "Downloading http://yann.lecun.com/exdb/mnist/t10k-labels-idx1-ubyte.gz to data\\MNIST\\raw\\t10k-labels-idx1-ubyte.gz\n"
     ]
    },
    {
     "name": "stderr",
     "output_type": "stream",
     "text": [
      "8192it [00:00, 18761.29it/s]                                                                                           "
     ]
    },
    {
     "name": "stdout",
     "output_type": "stream",
     "text": [
      "Extracting data\\MNIST\\raw\\t10k-labels-idx1-ubyte.gz\n",
      "Processing...\n",
      "Done!\n"
     ]
    },
    {
     "name": "stderr",
     "output_type": "stream",
     "text": [
      "\n"
     ]
    }
   ],
   "source": [
    "train_data, test_data = data_utils.load_dataset(opt)\n",
    "\n",
    "train_loader = DataLoader(train_data,\n",
    "                          num_workers=opt.data_threads,\n",
    "                          batch_size=opt.batch_size,\n",
    "                          shuffle=True,\n",
    "                          drop_last=True,\n",
    "                          pin_memory=False)\n",
    "test_loader = DataLoader(test_data,\n",
    "                         num_workers=opt.data_threads,\n",
    "                         batch_size=opt.batch_size,\n",
    "                         shuffle=True,\n",
    "                         drop_last=True,\n",
    "                         pin_memory=False)"
   ]
  },
  {
   "cell_type": "markdown",
   "metadata": {},
   "source": [
    "# Batch generating"
   ]
  },
  {
   "cell_type": "code",
   "execution_count": 7,
   "metadata": {},
   "outputs": [],
   "source": [
    "def get_training_batch():\n",
    "    while True:\n",
    "        for sequence in train_loader:\n",
    "            batch = data_utils.normalize_data(opt, dtype, sequence)\n",
    "            yield batch\n",
    "            \n",
    "def get_testing_batch():\n",
    "    while True:\n",
    "        for sequence in test_loader:\n",
    "            batch = data_utils.normalize_data(opt, dtype, sequence)\n",
    "            yield batch\n",
    "            \n",
    "training_batch_generator = get_training_batch()\n",
    "testing_batch_generator = get_testing_batch()"
   ]
  },
  {
   "cell_type": "code",
   "execution_count": null,
   "metadata": {},
   "outputs": [],
   "source": []
  }
 ],
 "metadata": {
  "kernelspec": {
   "display_name": "Python 3",
   "language": "python",
   "name": "python3"
  },
  "language_info": {
   "codemirror_mode": {
    "name": "ipython",
    "version": 3
   },
   "file_extension": ".py",
   "mimetype": "text/x-python",
   "name": "python",
   "nbconvert_exporter": "python",
   "pygments_lexer": "ipython3",
   "version": "3.7.0"
  }
 },
 "nbformat": 4,
 "nbformat_minor": 4
}
